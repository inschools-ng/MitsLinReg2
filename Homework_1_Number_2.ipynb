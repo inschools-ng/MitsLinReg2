{
  "nbformat": 4,
  "nbformat_minor": 0,
  "metadata": {
    "colab": {
      "provenance": [],
      "authorship_tag": "ABX9TyNFBwaGhJN9MggXl47987rm",
      "include_colab_link": true
    },
    "kernelspec": {
      "name": "python3",
      "display_name": "Python 3"
    },
    "language_info": {
      "name": "python"
    }
  },
  "cells": [
    {
      "cell_type": "markdown",
      "metadata": {
        "id": "view-in-github",
        "colab_type": "text"
      },
      "source": [
        "<a href=\"https://colab.research.google.com/github/inschools-ng/MitsLinReg2/blob/main/Homework_1_Number_2.ipynb\" target=\"_parent\"><img src=\"https://colab.research.google.com/assets/colab-badge.svg\" alt=\"Open In Colab\"/></a>"
      ]
    },
    {
      "cell_type": "markdown",
      "source": [
        "2. Use \"bike-share users\" dataset to predict the counts of users (response variable). Interpret\n",
        "the coefficients and the performance of the model."
      ],
      "metadata": {
        "id": "GeWu1hGMiGsf"
      }
    },
    {
      "cell_type": "code",
      "execution_count": null,
      "metadata": {
        "id": "6kC7am-1rFFf"
      },
      "outputs": [],
      "source": [
        "import pandas as pd\n",
        "import numpy as np # for data manipulation\n",
        "import matplotlib.pyplot as plt # for data visualization\n",
        "import seaborn as sns # for data visualisation\n",
        "from pylab import rcParams\n",
        "rcParams['figure.figsize'] = [4,3]\n",
        "sns.set(color_codes=True, font_scale=1.2)\n",
        "plt.rcParams['figure.figsize'] = [4,3]\n",
        "plt.rcParams['font.size'] = 10\n",
        "plt.rcParams['font.weight'] = 'bold'\n",
        "plt.style.use('seaborn-v0_8')\n",
        "\n",
        "\n",
        "%matplotlib inline\n",
        "%config InlineBackend.figure_format = 'retina'\n",
        "%load_ext autoreload\n",
        "%autoreload 2\n"
      ]
    },
    {
      "cell_type": "markdown",
      "source": [
        "The BikeShare dataset has been uploaded to a Github Account.\n",
        "\n",
        "This notebook will be cloning and reading the files directly from the Github repository."
      ],
      "metadata": {
        "id": "EeX3GfVrYHsL"
      }
    },
    {
      "cell_type": "code",
      "source": [
        "!git clone \"https://github.com/inschools-ng/MitsLinReg2.git\""
      ],
      "metadata": {
        "id": "qDb9ttMFrOoH"
      },
      "execution_count": null,
      "outputs": []
    },
    {
      "cell_type": "code",
      "source": [
        "df = pd.read_csv(\"/content/MitsLinReg2/Bike Share Usage Prediction.csv\")"
      ],
      "metadata": {
        "id": "RiwxcCTItuux"
      },
      "execution_count": null,
      "outputs": []
    },
    {
      "cell_type": "code",
      "source": [
        "print('\\n', df.head())\n",
        "print('\\n', df.tail())"
      ],
      "metadata": {
        "colab": {
          "base_uri": "https://localhost:8080/"
        },
        "id": "QHCFxF_kdoZf",
        "outputId": "90cd7820-71d5-4400-8c15-3e50d978855e"
      },
      "execution_count": null,
      "outputs": [
        {
          "output_type": "stream",
          "name": "stdout",
          "text": [
            "\n",
            "    instant  season  yr  mnth  hr  holiday   weekday  workingday  weathersit  \\\n",
            "0        1       1   0     1   0        0  Saturday           0           1   \n",
            "1        2       1   0     1   1        0  Saturday           0           1   \n",
            "2        3       1   0     1   2        0  Saturday           0           1   \n",
            "3        4       1   0     1   3        0  Saturday           0           1   \n",
            "4        5       1   0     1   4        0  Saturday           0           1   \n",
            "\n",
            "   temp   atemp   hum  windspeed  cnt  \n",
            "0  0.24  0.2879  0.81        0.0   16  \n",
            "1  0.22  0.2727  0.80        0.0   40  \n",
            "2  0.22  0.2727  0.80        0.0   32  \n",
            "3  0.24  0.2879  0.75        0.0   13  \n",
            "4  0.24  0.2879  0.75        0.0    1  \n",
            "\n",
            "        instant  season  yr  mnth  hr  holiday weekday  workingday  weathersit  \\\n",
            "17374    17375       1   1    12  19        0  Monday           1           2   \n",
            "17375    17376       1   1    12  20        0  Monday           1           2   \n",
            "17376    17377       1   1    12  21        0  Monday           1           1   \n",
            "17377    17378       1   1    12  22        0  Monday           1           1   \n",
            "17378    17379       1   1    12  23        0  Monday           1           1   \n",
            "\n",
            "       temp   atemp   hum  windspeed  cnt  \n",
            "17374  0.26  0.2576  0.60     0.1642  119  \n",
            "17375  0.26  0.2576  0.60     0.1642   89  \n",
            "17376  0.26  0.2576  0.60     0.1642   90  \n",
            "17377  0.26  0.2727  0.56     0.1343   61  \n",
            "17378  0.26  0.2727  0.65     0.1343   49  \n"
          ]
        }
      ]
    },
    {
      "cell_type": "code",
      "source": [
        "print('\\nNumber of rows and Columns in the data set: ', df.shape)"
      ],
      "metadata": {
        "colab": {
          "base_uri": "https://localhost:8080/"
        },
        "id": "-hA0rOumd1Wt",
        "outputId": "f83cea8c-e3f6-4522-88fa-dca6294539c1"
      },
      "execution_count": null,
      "outputs": [
        {
          "output_type": "stream",
          "name": "stdout",
          "text": [
            "\n",
            "Number of rows and Columns in the data set:  (17379, 14)\n"
          ]
        }
      ]
    },
    {
      "cell_type": "code",
      "source": [
        "df.describe()"
      ],
      "metadata": {
        "colab": {
          "base_uri": "https://localhost:8080/",
          "height": 320
        },
        "id": "ZaSjaZ0yn2lu",
        "outputId": "68fce2a4-1932-4ca4-feb7-17139d3b92f3"
      },
      "execution_count": null,
      "outputs": [
        {
          "output_type": "execute_result",
          "data": {
            "text/plain": [
              "          instant        season            yr          mnth            hr  \\\n",
              "count  17379.0000  17379.000000  17379.000000  17379.000000  17379.000000   \n",
              "mean    8690.0000      2.501640      0.502561      6.537775     11.546752   \n",
              "std     5017.0295      1.106918      0.500008      3.438776      6.914405   \n",
              "min        1.0000      1.000000      0.000000      1.000000      0.000000   \n",
              "25%     4345.5000      2.000000      0.000000      4.000000      6.000000   \n",
              "50%     8690.0000      3.000000      1.000000      7.000000     12.000000   \n",
              "75%    13034.5000      3.000000      1.000000     10.000000     18.000000   \n",
              "max    17379.0000      4.000000      1.000000     12.000000     23.000000   \n",
              "\n",
              "            holiday    workingday    weathersit          temp         atemp  \\\n",
              "count  17379.000000  17379.000000  17379.000000  17379.000000  17379.000000   \n",
              "mean       0.028770      0.682721      1.425283      0.496987      0.475775   \n",
              "std        0.167165      0.465431      0.639357      0.192556      0.171850   \n",
              "min        0.000000      0.000000      1.000000      0.020000      0.000000   \n",
              "25%        0.000000      0.000000      1.000000      0.340000      0.333300   \n",
              "50%        0.000000      1.000000      1.000000      0.500000      0.484800   \n",
              "75%        0.000000      1.000000      2.000000      0.660000      0.621200   \n",
              "max        1.000000      1.000000      4.000000      1.000000      1.000000   \n",
              "\n",
              "                hum     windspeed           cnt  \n",
              "count  17379.000000  17379.000000  17379.000000  \n",
              "mean       0.627229      0.190098    189.463088  \n",
              "std        0.192930      0.122340    181.387599  \n",
              "min        0.000000      0.000000      1.000000  \n",
              "25%        0.480000      0.104500     40.000000  \n",
              "50%        0.630000      0.194000    142.000000  \n",
              "75%        0.780000      0.253700    281.000000  \n",
              "max        1.000000      0.850700    977.000000  "
            ],
            "text/html": [
              "\n",
              "  <div id=\"df-f38bc16f-44e0-413b-b4c9-c817e83e246b\" class=\"colab-df-container\">\n",
              "    <div>\n",
              "<style scoped>\n",
              "    .dataframe tbody tr th:only-of-type {\n",
              "        vertical-align: middle;\n",
              "    }\n",
              "\n",
              "    .dataframe tbody tr th {\n",
              "        vertical-align: top;\n",
              "    }\n",
              "\n",
              "    .dataframe thead th {\n",
              "        text-align: right;\n",
              "    }\n",
              "</style>\n",
              "<table border=\"1\" class=\"dataframe\">\n",
              "  <thead>\n",
              "    <tr style=\"text-align: right;\">\n",
              "      <th></th>\n",
              "      <th>instant</th>\n",
              "      <th>season</th>\n",
              "      <th>yr</th>\n",
              "      <th>mnth</th>\n",
              "      <th>hr</th>\n",
              "      <th>holiday</th>\n",
              "      <th>workingday</th>\n",
              "      <th>weathersit</th>\n",
              "      <th>temp</th>\n",
              "      <th>atemp</th>\n",
              "      <th>hum</th>\n",
              "      <th>windspeed</th>\n",
              "      <th>cnt</th>\n",
              "    </tr>\n",
              "  </thead>\n",
              "  <tbody>\n",
              "    <tr>\n",
              "      <th>count</th>\n",
              "      <td>17379.0000</td>\n",
              "      <td>17379.000000</td>\n",
              "      <td>17379.000000</td>\n",
              "      <td>17379.000000</td>\n",
              "      <td>17379.000000</td>\n",
              "      <td>17379.000000</td>\n",
              "      <td>17379.000000</td>\n",
              "      <td>17379.000000</td>\n",
              "      <td>17379.000000</td>\n",
              "      <td>17379.000000</td>\n",
              "      <td>17379.000000</td>\n",
              "      <td>17379.000000</td>\n",
              "      <td>17379.000000</td>\n",
              "    </tr>\n",
              "    <tr>\n",
              "      <th>mean</th>\n",
              "      <td>8690.0000</td>\n",
              "      <td>2.501640</td>\n",
              "      <td>0.502561</td>\n",
              "      <td>6.537775</td>\n",
              "      <td>11.546752</td>\n",
              "      <td>0.028770</td>\n",
              "      <td>0.682721</td>\n",
              "      <td>1.425283</td>\n",
              "      <td>0.496987</td>\n",
              "      <td>0.475775</td>\n",
              "      <td>0.627229</td>\n",
              "      <td>0.190098</td>\n",
              "      <td>189.463088</td>\n",
              "    </tr>\n",
              "    <tr>\n",
              "      <th>std</th>\n",
              "      <td>5017.0295</td>\n",
              "      <td>1.106918</td>\n",
              "      <td>0.500008</td>\n",
              "      <td>3.438776</td>\n",
              "      <td>6.914405</td>\n",
              "      <td>0.167165</td>\n",
              "      <td>0.465431</td>\n",
              "      <td>0.639357</td>\n",
              "      <td>0.192556</td>\n",
              "      <td>0.171850</td>\n",
              "      <td>0.192930</td>\n",
              "      <td>0.122340</td>\n",
              "      <td>181.387599</td>\n",
              "    </tr>\n",
              "    <tr>\n",
              "      <th>min</th>\n",
              "      <td>1.0000</td>\n",
              "      <td>1.000000</td>\n",
              "      <td>0.000000</td>\n",
              "      <td>1.000000</td>\n",
              "      <td>0.000000</td>\n",
              "      <td>0.000000</td>\n",
              "      <td>0.000000</td>\n",
              "      <td>1.000000</td>\n",
              "      <td>0.020000</td>\n",
              "      <td>0.000000</td>\n",
              "      <td>0.000000</td>\n",
              "      <td>0.000000</td>\n",
              "      <td>1.000000</td>\n",
              "    </tr>\n",
              "    <tr>\n",
              "      <th>25%</th>\n",
              "      <td>4345.5000</td>\n",
              "      <td>2.000000</td>\n",
              "      <td>0.000000</td>\n",
              "      <td>4.000000</td>\n",
              "      <td>6.000000</td>\n",
              "      <td>0.000000</td>\n",
              "      <td>0.000000</td>\n",
              "      <td>1.000000</td>\n",
              "      <td>0.340000</td>\n",
              "      <td>0.333300</td>\n",
              "      <td>0.480000</td>\n",
              "      <td>0.104500</td>\n",
              "      <td>40.000000</td>\n",
              "    </tr>\n",
              "    <tr>\n",
              "      <th>50%</th>\n",
              "      <td>8690.0000</td>\n",
              "      <td>3.000000</td>\n",
              "      <td>1.000000</td>\n",
              "      <td>7.000000</td>\n",
              "      <td>12.000000</td>\n",
              "      <td>0.000000</td>\n",
              "      <td>1.000000</td>\n",
              "      <td>1.000000</td>\n",
              "      <td>0.500000</td>\n",
              "      <td>0.484800</td>\n",
              "      <td>0.630000</td>\n",
              "      <td>0.194000</td>\n",
              "      <td>142.000000</td>\n",
              "    </tr>\n",
              "    <tr>\n",
              "      <th>75%</th>\n",
              "      <td>13034.5000</td>\n",
              "      <td>3.000000</td>\n",
              "      <td>1.000000</td>\n",
              "      <td>10.000000</td>\n",
              "      <td>18.000000</td>\n",
              "      <td>0.000000</td>\n",
              "      <td>1.000000</td>\n",
              "      <td>2.000000</td>\n",
              "      <td>0.660000</td>\n",
              "      <td>0.621200</td>\n",
              "      <td>0.780000</td>\n",
              "      <td>0.253700</td>\n",
              "      <td>281.000000</td>\n",
              "    </tr>\n",
              "    <tr>\n",
              "      <th>max</th>\n",
              "      <td>17379.0000</td>\n",
              "      <td>4.000000</td>\n",
              "      <td>1.000000</td>\n",
              "      <td>12.000000</td>\n",
              "      <td>23.000000</td>\n",
              "      <td>1.000000</td>\n",
              "      <td>1.000000</td>\n",
              "      <td>4.000000</td>\n",
              "      <td>1.000000</td>\n",
              "      <td>1.000000</td>\n",
              "      <td>1.000000</td>\n",
              "      <td>0.850700</td>\n",
              "      <td>977.000000</td>\n",
              "    </tr>\n",
              "  </tbody>\n",
              "</table>\n",
              "</div>\n",
              "    <div class=\"colab-df-buttons\">\n",
              "\n",
              "  <div class=\"colab-df-container\">\n",
              "    <button class=\"colab-df-convert\" onclick=\"convertToInteractive('df-f38bc16f-44e0-413b-b4c9-c817e83e246b')\"\n",
              "            title=\"Convert this dataframe to an interactive table.\"\n",
              "            style=\"display:none;\">\n",
              "\n",
              "  <svg xmlns=\"http://www.w3.org/2000/svg\" height=\"24px\" viewBox=\"0 -960 960 960\">\n",
              "    <path d=\"M120-120v-720h720v720H120Zm60-500h600v-160H180v160Zm220 220h160v-160H400v160Zm0 220h160v-160H400v160ZM180-400h160v-160H180v160Zm440 0h160v-160H620v160ZM180-180h160v-160H180v160Zm440 0h160v-160H620v160Z\"/>\n",
              "  </svg>\n",
              "    </button>\n",
              "\n",
              "  <style>\n",
              "    .colab-df-container {\n",
              "      display:flex;\n",
              "      gap: 12px;\n",
              "    }\n",
              "\n",
              "    .colab-df-convert {\n",
              "      background-color: #E8F0FE;\n",
              "      border: none;\n",
              "      border-radius: 50%;\n",
              "      cursor: pointer;\n",
              "      display: none;\n",
              "      fill: #1967D2;\n",
              "      height: 32px;\n",
              "      padding: 0 0 0 0;\n",
              "      width: 32px;\n",
              "    }\n",
              "\n",
              "    .colab-df-convert:hover {\n",
              "      background-color: #E2EBFA;\n",
              "      box-shadow: 0px 1px 2px rgba(60, 64, 67, 0.3), 0px 1px 3px 1px rgba(60, 64, 67, 0.15);\n",
              "      fill: #174EA6;\n",
              "    }\n",
              "\n",
              "    .colab-df-buttons div {\n",
              "      margin-bottom: 4px;\n",
              "    }\n",
              "\n",
              "    [theme=dark] .colab-df-convert {\n",
              "      background-color: #3B4455;\n",
              "      fill: #D2E3FC;\n",
              "    }\n",
              "\n",
              "    [theme=dark] .colab-df-convert:hover {\n",
              "      background-color: #434B5C;\n",
              "      box-shadow: 0px 1px 3px 1px rgba(0, 0, 0, 0.15);\n",
              "      filter: drop-shadow(0px 1px 2px rgba(0, 0, 0, 0.3));\n",
              "      fill: #FFFFFF;\n",
              "    }\n",
              "  </style>\n",
              "\n",
              "    <script>\n",
              "      const buttonEl =\n",
              "        document.querySelector('#df-f38bc16f-44e0-413b-b4c9-c817e83e246b button.colab-df-convert');\n",
              "      buttonEl.style.display =\n",
              "        google.colab.kernel.accessAllowed ? 'block' : 'none';\n",
              "\n",
              "      async function convertToInteractive(key) {\n",
              "        const element = document.querySelector('#df-f38bc16f-44e0-413b-b4c9-c817e83e246b');\n",
              "        const dataTable =\n",
              "          await google.colab.kernel.invokeFunction('convertToInteractive',\n",
              "                                                    [key], {});\n",
              "        if (!dataTable) return;\n",
              "\n",
              "        const docLinkHtml = 'Like what you see? Visit the ' +\n",
              "          '<a target=\"_blank\" href=https://colab.research.google.com/notebooks/data_table.ipynb>data table notebook</a>'\n",
              "          + ' to learn more about interactive tables.';\n",
              "        element.innerHTML = '';\n",
              "        dataTable['output_type'] = 'display_data';\n",
              "        await google.colab.output.renderOutput(dataTable, element);\n",
              "        const docLink = document.createElement('div');\n",
              "        docLink.innerHTML = docLinkHtml;\n",
              "        element.appendChild(docLink);\n",
              "      }\n",
              "    </script>\n",
              "  </div>\n",
              "\n",
              "\n",
              "<div id=\"df-76ee81ac-ed33-407d-b43b-7726e6305901\">\n",
              "  <button class=\"colab-df-quickchart\" onclick=\"quickchart('df-76ee81ac-ed33-407d-b43b-7726e6305901')\"\n",
              "            title=\"Suggest charts.\"\n",
              "            style=\"display:none;\">\n",
              "\n",
              "<svg xmlns=\"http://www.w3.org/2000/svg\" height=\"24px\"viewBox=\"0 0 24 24\"\n",
              "     width=\"24px\">\n",
              "    <g>\n",
              "        <path d=\"M19 3H5c-1.1 0-2 .9-2 2v14c0 1.1.9 2 2 2h14c1.1 0 2-.9 2-2V5c0-1.1-.9-2-2-2zM9 17H7v-7h2v7zm4 0h-2V7h2v10zm4 0h-2v-4h2v4z\"/>\n",
              "    </g>\n",
              "</svg>\n",
              "  </button>\n",
              "\n",
              "<style>\n",
              "  .colab-df-quickchart {\n",
              "      --bg-color: #E8F0FE;\n",
              "      --fill-color: #1967D2;\n",
              "      --hover-bg-color: #E2EBFA;\n",
              "      --hover-fill-color: #174EA6;\n",
              "      --disabled-fill-color: #AAA;\n",
              "      --disabled-bg-color: #DDD;\n",
              "  }\n",
              "\n",
              "  [theme=dark] .colab-df-quickchart {\n",
              "      --bg-color: #3B4455;\n",
              "      --fill-color: #D2E3FC;\n",
              "      --hover-bg-color: #434B5C;\n",
              "      --hover-fill-color: #FFFFFF;\n",
              "      --disabled-bg-color: #3B4455;\n",
              "      --disabled-fill-color: #666;\n",
              "  }\n",
              "\n",
              "  .colab-df-quickchart {\n",
              "    background-color: var(--bg-color);\n",
              "    border: none;\n",
              "    border-radius: 50%;\n",
              "    cursor: pointer;\n",
              "    display: none;\n",
              "    fill: var(--fill-color);\n",
              "    height: 32px;\n",
              "    padding: 0;\n",
              "    width: 32px;\n",
              "  }\n",
              "\n",
              "  .colab-df-quickchart:hover {\n",
              "    background-color: var(--hover-bg-color);\n",
              "    box-shadow: 0 1px 2px rgba(60, 64, 67, 0.3), 0 1px 3px 1px rgba(60, 64, 67, 0.15);\n",
              "    fill: var(--button-hover-fill-color);\n",
              "  }\n",
              "\n",
              "  .colab-df-quickchart-complete:disabled,\n",
              "  .colab-df-quickchart-complete:disabled:hover {\n",
              "    background-color: var(--disabled-bg-color);\n",
              "    fill: var(--disabled-fill-color);\n",
              "    box-shadow: none;\n",
              "  }\n",
              "\n",
              "  .colab-df-spinner {\n",
              "    border: 2px solid var(--fill-color);\n",
              "    border-color: transparent;\n",
              "    border-bottom-color: var(--fill-color);\n",
              "    animation:\n",
              "      spin 1s steps(1) infinite;\n",
              "  }\n",
              "\n",
              "  @keyframes spin {\n",
              "    0% {\n",
              "      border-color: transparent;\n",
              "      border-bottom-color: var(--fill-color);\n",
              "      border-left-color: var(--fill-color);\n",
              "    }\n",
              "    20% {\n",
              "      border-color: transparent;\n",
              "      border-left-color: var(--fill-color);\n",
              "      border-top-color: var(--fill-color);\n",
              "    }\n",
              "    30% {\n",
              "      border-color: transparent;\n",
              "      border-left-color: var(--fill-color);\n",
              "      border-top-color: var(--fill-color);\n",
              "      border-right-color: var(--fill-color);\n",
              "    }\n",
              "    40% {\n",
              "      border-color: transparent;\n",
              "      border-right-color: var(--fill-color);\n",
              "      border-top-color: var(--fill-color);\n",
              "    }\n",
              "    60% {\n",
              "      border-color: transparent;\n",
              "      border-right-color: var(--fill-color);\n",
              "    }\n",
              "    80% {\n",
              "      border-color: transparent;\n",
              "      border-right-color: var(--fill-color);\n",
              "      border-bottom-color: var(--fill-color);\n",
              "    }\n",
              "    90% {\n",
              "      border-color: transparent;\n",
              "      border-bottom-color: var(--fill-color);\n",
              "    }\n",
              "  }\n",
              "</style>\n",
              "\n",
              "  <script>\n",
              "    async function quickchart(key) {\n",
              "      const quickchartButtonEl =\n",
              "        document.querySelector('#' + key + ' button');\n",
              "      quickchartButtonEl.disabled = true;  // To prevent multiple clicks.\n",
              "      quickchartButtonEl.classList.add('colab-df-spinner');\n",
              "      try {\n",
              "        const charts = await google.colab.kernel.invokeFunction(\n",
              "            'suggestCharts', [key], {});\n",
              "      } catch (error) {\n",
              "        console.error('Error during call to suggestCharts:', error);\n",
              "      }\n",
              "      quickchartButtonEl.classList.remove('colab-df-spinner');\n",
              "      quickchartButtonEl.classList.add('colab-df-quickchart-complete');\n",
              "    }\n",
              "    (() => {\n",
              "      let quickchartButtonEl =\n",
              "        document.querySelector('#df-76ee81ac-ed33-407d-b43b-7726e6305901 button');\n",
              "      quickchartButtonEl.style.display =\n",
              "        google.colab.kernel.accessAllowed ? 'block' : 'none';\n",
              "    })();\n",
              "  </script>\n",
              "</div>\n",
              "    </div>\n",
              "  </div>\n"
            ]
          },
          "metadata": {},
          "execution_count": 6
        }
      ]
    },
    {
      "cell_type": "code",
      "source": [
        "# Encoding using Dummy Variable\n",
        "categorical_columns = ['weekday']\n",
        "df_encode = pd.get_dummies(data=df, prefix='OHE', prefix_sep='_', columns = categorical_columns, drop_first=True, dtype='int8')\n",
        "\n",
        "\n",
        "print('Columns in original data frame:\\n', df.columns.values)\n",
        "print('\\nNumber of rows and columns in the dataset:', df.shape)\n",
        "print('\\nColumns in data frame after encoding dummy variable:\\n', df_encode.columns.values)\n",
        "print('\\nNumber of rows and columns in the dataset:', df_encode.shape)"
      ],
      "metadata": {
        "colab": {
          "base_uri": "https://localhost:8080/"
        },
        "id": "_ilNu3MLrE3g",
        "outputId": "95ee81f4-fe69-42ad-84ec-96401b597199"
      },
      "execution_count": null,
      "outputs": [
        {
          "output_type": "stream",
          "name": "stdout",
          "text": [
            "Columns in original data frame:\n",
            " ['instant' 'season' 'yr' 'mnth' 'hr' 'holiday' 'weekday' 'workingday'\n",
            " 'weathersit' 'temp' 'atemp' 'hum' 'windspeed' 'cnt']\n",
            "\n",
            "Number of rows and columns in the dataset: (17379, 14)\n",
            "\n",
            "Columns in data frame after encoding dummy variable:\n",
            " ['instant' 'season' 'yr' 'mnth' 'hr' 'holiday' 'workingday' 'weathersit'\n",
            " 'temp' 'atemp' 'hum' 'windspeed' 'cnt' 'OHE_Monday' 'OHE_Saturday'\n",
            " 'OHE_Sunday' 'OHE_Thursday' 'OHE_Tuesday' 'OHE_Wednesday']\n",
            "\n",
            "Number of rows and columns in the dataset: (17379, 19)\n"
          ]
        }
      ]
    },
    {
      "cell_type": "code",
      "source": [
        "from sklearn import linear_model\n",
        "# Split the data into training/testing sets\n",
        "from sklearn.model_selection import train_test_split\n",
        "from sklearn.linear_model import LinearRegression\n",
        "\n",
        "\n",
        "X = df_encode.drop(['instant', 'cnt'], axis=1) # Independent Variable\n",
        "Y = df_encode['cnt'] # Dependent Variable\n",
        "\n",
        "\n",
        "X_train, X_test, Y_train, Y_test = train_test_split(X, Y, test_size = 0.3, random_state=20)\n"
      ],
      "metadata": {
        "id": "49IWUypYI-2q"
      },
      "execution_count": null,
      "outputs": []
    },
    {
      "cell_type": "code",
      "source": [
        "# Create the linear regression model with an intercept\n",
        "model_with_intercept = linear_model.LinearRegression(fit_intercept=True)\n",
        "\n",
        "# Fit the model to the data\n",
        "model_with_intercept.fit(X_train, Y_train)\n",
        "\n",
        "# Print the coefficients and intercept\n",
        "model_with_intercept_coefficients = model_with_intercept.coef_\n",
        "\n",
        "model_with_intercept_interceptValue = model_with_intercept.intercept_\n",
        "\n",
        "print('\\nThe regression model (with intercept) coefficients are:  ', model_with_intercept_coefficients)\n",
        "print('\\nThe regression model (with intercept) intercept is:  ', model_with_intercept_interceptValue)\n"
      ],
      "metadata": {
        "colab": {
          "base_uri": "https://localhost:8080/"
        },
        "id": "vjaXNwyoKnn4",
        "outputId": "37abb52d-72b0-48af-f9a8-b95b0a4d7545"
      },
      "execution_count": null,
      "outputs": [
        {
          "output_type": "stream",
          "name": "stdout",
          "text": [
            "\n",
            "The regression model (with intercept) coefficients are:   [ 1.95280345e+01  8.30644242e+01  1.75855159e-02  7.73387014e+00\n",
            " -1.58895064e+01  9.87532400e+00 -6.26457453e+00  5.18724859e+01\n",
            "  2.61398831e+02 -1.94535546e+02  3.40951883e+01 -5.16004538e+00\n",
            "  1.08617414e+01 -4.84755897e+00 -5.21006932e+00 -7.52428129e+00\n",
            " -4.59290010e+00]\n",
            "\n",
            "The regression model (with intercept) intercept is:   -19.541707058006523\n"
          ]
        }
      ]
    },
    {
      "cell_type": "code",
      "source": [
        "from sklearn.metrics import mean_absolute_error\n",
        "from sklearn.metrics import mean_squared_error\n",
        "\n",
        "\n",
        "Y_pred_with_intercept = model_with_intercept.predict(X_test)\n",
        "\n",
        "J_Mean_Absolute_Error = mean_absolute_error(Y_test, Y_pred_with_intercept)\n",
        "J_Mean_Squared_Error = mean_squared_error(Y_test, Y_pred_with_intercept)\n",
        "S_dev = np.sqrt(J_Mean_Squared_Error)\n",
        "R_square = model_with_intercept.score(X_test,Y_test)\n",
        "\n",
        "print('The Mean Absolute Error(MSE) is: ', J_Mean_Absolute_Error)\n",
        "print('The Mean Square Error(MSE) is: ', J_Mean_Squared_Error)\n",
        "print('The Standard deviation is: ', S_dev)\n",
        "print('R square obtained from the scikit learn library is :', R_square)\n"
      ],
      "metadata": {
        "colab": {
          "base_uri": "https://localhost:8080/"
        },
        "id": "wxQ8tABf6SrD",
        "outputId": "a471b1e0-9ea3-44b5-f594-89e3001f52b9"
      },
      "execution_count": null,
      "outputs": [
        {
          "output_type": "stream",
          "name": "stdout",
          "text": [
            "The Mean Absolute Error(MSE) is:  105.34377652946876\n",
            "The Mean Square Error(MSE) is:  19725.610146413597\n",
            "The Standard deviation is:  140.4478912138363\n",
            "R square obtained from the scikit learn library is : 0.3857597983321095\n"
          ]
        }
      ]
    },
    {
      "cell_type": "code",
      "source": [
        "residuals = Y_test - np.mean(Y_pred_with_intercept)\n",
        "sum_of_residuals = np.sum(residuals)\n",
        "print(np.round(sum_of_residuals, 3))\n",
        "sum_of_squares = np.sum(np.power(residuals, 2))\n",
        "mean_squared_error = sum_of_squares/(len(Y_test)-2)\n",
        "print(mean_squared_error)\n",
        "std = np.sqrt(mean_squared_error)\n",
        "print(std)"
      ],
      "metadata": {
        "colab": {
          "base_uri": "https://localhost:8080/"
        },
        "id": "QArAqbLFGvEz",
        "outputId": "a6f6389f-8b73-489e-a588-b6da2e612e7c"
      },
      "execution_count": null,
      "outputs": [
        {
          "output_type": "stream",
          "name": "stdout",
          "text": [
            "-11360.28\n",
            "32130.90974509152\n",
            "179.25096860293817\n"
          ]
        }
      ]
    },
    {
      "cell_type": "code",
      "source": [
        "predicted_cnt = model_with_intercept.intercept_ + model_with_intercept.coef_[0]*2\n",
        "print(predicted_cnt)"
      ],
      "metadata": {
        "colab": {
          "base_uri": "https://localhost:8080/"
        },
        "id": "dHxzSPS0AWhs",
        "outputId": "6be6e41f-5a88-4465-dc6e-04d97c0b41ac"
      },
      "execution_count": null,
      "outputs": [
        {
          "output_type": "stream",
          "name": "stdout",
          "text": [
            "19.514361853501306\n"
          ]
        }
      ]
    },
    {
      "cell_type": "code",
      "source": [
        "predicted_cnt_plus_one = model_with_intercept.intercept_ + model_with_intercept.coef_[0]*3\n",
        "print(predicted_cnt_plus_one)"
      ],
      "metadata": {
        "colab": {
          "base_uri": "https://localhost:8080/"
        },
        "id": "8Fwu1__MF4hG",
        "outputId": "a6c98585-6221-497f-8a62-17c96c51866b"
      },
      "execution_count": null,
      "outputs": [
        {
          "output_type": "stream",
          "name": "stdout",
          "text": [
            "39.042396309255224\n"
          ]
        }
      ]
    },
    {
      "cell_type": "code",
      "source": [
        "print(predicted_cnt_plus_one-predicted_cnt)\n",
        "print(model_with_intercept.coef_[0])"
      ],
      "metadata": {
        "colab": {
          "base_uri": "https://localhost:8080/"
        },
        "id": "GqcdZBdYGhWK",
        "outputId": "96fb03bf-60f6-4460-a58e-297523c7df8e"
      },
      "execution_count": null,
      "outputs": [
        {
          "output_type": "stream",
          "name": "stdout",
          "text": [
            "19.528034455753918\n",
            "19.528034455753915\n"
          ]
        }
      ]
    },
    {
      "cell_type": "markdown",
      "source": [
        "The difference between two sequential predictors is equal to the coefficient of the regression model."
      ],
      "metadata": {
        "id": "7Ig2-werGysf"
      }
    },
    {
      "cell_type": "code",
      "source": [],
      "metadata": {
        "id": "LXyf5xfmI8Ap"
      },
      "execution_count": null,
      "outputs": []
    }
  ]
}